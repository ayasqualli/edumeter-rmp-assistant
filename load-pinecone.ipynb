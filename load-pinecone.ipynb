{
 "cells": [
  {
   "cell_type": "code",
   "execution_count": null,
   "metadata": {},
   "outputs": [],
   "source": [
    "from dotenv import load_dotenv\n",
    "load_dotenv()\n",
    "import os\n",
    "import pinecone\n",
    "from openai import OpenAI"
   ]
  },
  {
   "cell_type": "code",
   "execution_count": null,
   "metadata": {},
   "outputs": [],
   "source": [
    "pc=pinecone.Pinecone(api_key=\"60a0f303-f99f-4655-b726-fee96f255569\")\n",
    "pc.create_index(name=\"rag\", dimension=1536, metric=\"cosine\", spec=pinecone.ServerlessSpec(cloud=\"aws\", region=\"us-east-1\"))\n"
   ]
  },
  {
   "cell_type": "code",
   "execution_count": null,
   "metadata": {},
   "outputs": [],
   "source": [
    "import json\n",
    "data = json.load(open(\"reviews.json\"))\n",
    "data['reviews']\n"
   ]
  },
  {
   "cell_type": "code",
   "execution_count": null,
   "metadata": {},
   "outputs": [],
   "source": [
    "processed_data = []\n",
    "client = OpenAI()\n",
    "\n",
    "for review in data['reviews']:\n",
    "    response = client.embeddings.create(\n",
    "        input=review['review'], \n",
    "        model=\"text-embedding-3-small\",\n",
    "\n",
    "    )\n",
    "    embedding = response.data[0].embedding\n",
    "    processed_data.append({\"values\": embedding, \n",
    "                           \"id\": review['professor'], \n",
    "                           \"metadata\": {\n",
    "                               \"review\": review[\"review\"], \n",
    "                               \"subject\": review['subject'],\n",
    "                               \"stars\" : review[\"stars\"]}})\n"
   ]
  },
  {
   "cell_type": "code",
   "execution_count": null,
   "metadata": {},
   "outputs": [],
   "source": [
    "index = pc.Index(\"rag\")\n",
    "index.upsert(\n",
    "    vectors=processed_data,\n",
    "    namespace=\"ns1\"\n",
    ")\n"
   ]
  },
  {
   "cell_type": "code",
   "execution_count": null,
   "metadata": {},
   "outputs": [],
   "source": [
    "#Index stats\n",
    "index.describe_index_stats()"
   ]
  }
 ],
 "metadata": {
  "kernelspec": {
   "display_name": "rag",
   "language": "python",
   "name": "python3"
  },
  "language_info": {
   "codemirror_mode": {
    "name": "ipython",
    "version": 3
   },
   "file_extension": ".py",
   "mimetype": "text/x-python",
   "name": "python",
   "nbconvert_exporter": "python",
   "pygments_lexer": "ipython3",
   "version": "3.12.4"
  }
 },
 "nbformat": 4,
 "nbformat_minor": 2
}
