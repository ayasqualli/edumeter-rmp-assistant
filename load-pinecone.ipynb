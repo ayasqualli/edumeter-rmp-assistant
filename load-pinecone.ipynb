{
 "cells": [
  {
   "cell_type": "code",
   "execution_count": 13,
   "metadata": {},
   "outputs": [],
   "source": [
    "from dotenv import load_dotenv\n",
    "load_dotenv()\n",
    "import os\n",
    "import pinecone\n",
    "from openai import OpenAI"
   ]
  },
  {
   "cell_type": "code",
   "execution_count": 18,
   "metadata": {},
   "outputs": [],
   "source": [
    "pc_api_key = os.getenv(\"PINECONE_API_KEY\")\n",
    "pc=pinecone.Pinecone(api_key=pc_api_key)\n",
    "pc.create_index(name=\"rag\", dimension=1536, metric=\"cosine\", spec=pinecone.ServerlessSpec(cloud=\"aws\", region=\"us-east-1\"))\n"
   ]
  },
  {
   "cell_type": "code",
   "execution_count": 25,
   "metadata": {},
   "outputs": [
    {
     "data": {
      "text/plain": [
       "[{'professor': 'Dr. Jane Smith',\n",
       "  'review': 'Excellent teacher who explains complex concepts clearly. Assignments are challenging but fair.',\n",
       "  'subject': 'Computer Science',\n",
       "  'stars': 5},\n",
       " {'professor': 'Prof. John Doe',\n",
       "  'review': 'Knowledgeable but lectures can be hard to follow. Office hours are very helpful.',\n",
       "  'subject': 'Mathematics',\n",
       "  'stars': 4},\n",
       " {'professor': 'Dr. Emily Chen',\n",
       "  'review': 'Passion for chemistry is contagious. Tough course, but she makes it interesting.',\n",
       "  'subject': 'Chemistry',\n",
       "  'stars': 4},\n",
       " {'professor': 'Prof. Michael Johnson',\n",
       "  'review': 'Brings history to life with storytelling. Exams are straightforward if you attend lectures.',\n",
       "  'subject': 'History',\n",
       "  'stars': 5},\n",
       " {'professor': 'Dr. Sarah Lee',\n",
       "  'review': 'At the cutting edge of AI research. Course is demanding but rewarding.',\n",
       "  'subject': 'Artificial Intelligence',\n",
       "  'stars': 4},\n",
       " {'professor': 'Prof. Robert Brown',\n",
       "  'review': 'Lectures can be dry, but the content is interesting. Easy course overall.',\n",
       "  'subject': 'Psychology',\n",
       "  'stars': 3},\n",
       " {'professor': 'Dr. Lisa Wang',\n",
       "  'review': 'Brilliant and makes quantum physics almost understandable. Extremely challenging but worth it.',\n",
       "  'subject': 'Physics',\n",
       "  'stars': 5},\n",
       " {'professor': 'Prof. David Miller',\n",
       "  'review': 'Provides great feedback and encourages creativity. Enjoyable and insightful course.',\n",
       "  'subject': 'Creative Writing',\n",
       "  'stars': 5},\n",
       " {'professor': 'Dr. Karen White',\n",
       "  'review': 'Passionate about the environment. Interesting field trips and hands-on projects.',\n",
       "  'subject': 'Environmental Science',\n",
       "  'stars': 4},\n",
       " {'professor': 'Prof. Thomas Green',\n",
       "  'review': 'Knows his stuff but can be intimidating. Lectures are fast-paced, come prepared.',\n",
       "  'subject': 'Economics',\n",
       "  'stars': 4},\n",
       " {'professor': 'Dr. Rachel Adams',\n",
       "  'review': 'Makes anatomy fascinating. Lots of memorization required, but her mnemonics help.',\n",
       "  'subject': 'Anatomy',\n",
       "  'stars': 5},\n",
       " {'professor': 'Prof. James Wilson',\n",
       "  'review': 'Challenges students to think critically about the law. Fascinating discussions in class.',\n",
       "  'subject': 'Law',\n",
       "  'stars': 4},\n",
       " {'professor': 'Dr. Maria Garcia',\n",
       "  'review': 'Love for literature is infectious. Brings Spanish classics to life.',\n",
       "  'subject': 'Spanish Literature',\n",
       "  'stars': 4},\n",
       " {'professor': 'Prof. Steven Taylor',\n",
       "  'review': 'Explains complex concepts well, but exams are tough. Attend all lectures and do all homework.',\n",
       "  'subject': 'Statistics',\n",
       "  'stars': 4},\n",
       " {'professor': 'Dr. Elizabeth Reed',\n",
       "  'review': 'Excellent teacher. Lab work is challenging but very educational.',\n",
       "  'subject': 'Biology',\n",
       "  'stars': 4},\n",
       " {'professor': 'Prof. Andrew Clark',\n",
       "  'review': 'Passion for cinema is contagious. Interesting discussions and fun projects.',\n",
       "  'subject': 'Film Studies',\n",
       "  'stars': 5},\n",
       " {'professor': 'Dr. Olivia Martinez',\n",
       "  'review': 'Brilliant and explains complex brain functions clearly. Challenging but fascinating course.',\n",
       "  'subject': 'Neuroscience',\n",
       "  'stars': 5},\n",
       " {'professor': 'Prof. Daniel Lee',\n",
       "  'review': 'Brings real-world experience to the classroom. Engaging lectures and thought-provoking assignments.',\n",
       "  'subject': 'International Relations',\n",
       "  'stars': 4},\n",
       " {'professor': 'Dr. Sophie Brown',\n",
       "  'review': 'Makes the cosmos understandable. Extremely challenging material, but her enthusiasm helps.',\n",
       "  'subject': 'Astrophysics',\n",
       "  'stars': 5},\n",
       " {'professor': 'Prof. Christopher Wright',\n",
       "  'review': 'Great industry insights. Group projects can be hit or miss depending on your team.',\n",
       "  'subject': 'Marketing',\n",
       "  'stars': 4},\n",
       " {'professor': 'Dr. Natalie Kim',\n",
       "  'review': 'Extremely knowledgeable and approachable. Her office hours are invaluable.',\n",
       "  'subject': 'Genetics',\n",
       "  'stars': 4},\n",
       " {'professor': 'Prof. Eric Johnson',\n",
       "  'review': 'Leads fascinating discussions. Be prepared to have your assumptions challenged.',\n",
       "  'subject': 'Philosophy',\n",
       "  'stars': 4},\n",
       " {'professor': 'Dr. Amanda Nelson',\n",
       "  'review': 'Passionate about immunology. Complex subject, but she makes it accessible.',\n",
       "  'subject': 'Immunology',\n",
       "  'stars': 4},\n",
       " {'professor': 'Prof. Mark Thompson',\n",
       "  'review': \"Lectures are like attending a fascinating art show. Easy grader, but you'll want to do the work.\",\n",
       "  'subject': 'Art History',\n",
       "  'stars': 5},\n",
       " {'professor': 'Dr. Laura Chen',\n",
       "  'review': \"Brilliant but expects a lot from students. Tough course, but you'll learn a ton.\",\n",
       "  'subject': 'Biochemistry',\n",
       "  'stars': 4},\n",
       " {'professor': 'Prof. Richard Davis',\n",
       "  'review': 'Encourages critical thinking. Lectures can be dense, but discussions are enlightening.',\n",
       "  'subject': 'Political Science',\n",
       "  'stars': 4},\n",
       " {'professor': 'Dr. Emma Wilson',\n",
       "  'review': 'Makes complex theories understandable. Interesting experiments and interactive lectures.',\n",
       "  'subject': 'Psychology',\n",
       "  'stars': 4},\n",
       " {'professor': 'Prof. Alex Turner',\n",
       "  'review': 'Knowledgeable but pacing can be fast. Great preparation for coding interviews.',\n",
       "  'subject': 'Computer Science',\n",
       "  'stars': 4},\n",
       " {'professor': 'Dr. Samantha Lee',\n",
       "  'review': 'Enthusiasm for microbes is contagious. Lab work is extensive but very educational.',\n",
       "  'subject': 'Microbiology',\n",
       "  'stars': 4},\n",
       " {'professor': 'Prof. Benjamin Harris',\n",
       "  'review': 'Knows accounting inside out. Can be dry, but his real-world examples help.',\n",
       "  'subject': 'Accounting',\n",
       "  'stars': 4},\n",
       " {'professor': 'Dr. Jessica Martinez',\n",
       "  'review': 'Field trips make ecology come alive. Engaging lecturer and fair grader.',\n",
       "  'subject': 'Ecology',\n",
       "  'stars': 5},\n",
       " {'professor': 'Prof. William Chen',\n",
       "  'review': 'Explains abstract concepts well. Homework is challenging but prepares you for exams.',\n",
       "  'subject': 'Mathematics',\n",
       "  'stars': 4},\n",
       " {'professor': 'Dr. Michelle Kim',\n",
       "  'review': 'Engaging lecturer. Course content is fascinating and assessments are fair.',\n",
       "  'subject': 'Psychology',\n",
       "  'stars': 5},\n",
       " {'professor': 'Prof. Jonathan Green',\n",
       "  'review': \"Runs a tight ship in the lab. Demanding course, but you'll learn proper lab techniques.\",\n",
       "  'subject': 'Chemistry',\n",
       "  'stars': 4},\n",
       " {'professor': 'Dr. Rachel Foster',\n",
       "  'review': 'Passion for literature is inspiring. Insightful discussions and creative assignments.',\n",
       "  'subject': 'Literature',\n",
       "  'stars': 5},\n",
       " {'professor': 'Prof. David Wong',\n",
       "  'review': 'Extensive industry experience. Practical course with challenging projects.',\n",
       "  'subject': 'Computer Science',\n",
       "  'stars': 4},\n",
       " {'professor': 'Dr. Sarah Johnson',\n",
       "  'review': 'Knowledgeable but can be intimidating. Course is tough but comprehensive.',\n",
       "  'subject': 'Chemistry',\n",
       "  'stars': 4},\n",
       " {'professor': 'Prof. Michael Davis',\n",
       "  'review': 'Captivating storyteller. Makes history come alive with interesting anecdotes.',\n",
       "  'subject': 'History',\n",
       "  'stars': 4},\n",
       " {'professor': 'Dr. Emily Roberts',\n",
       "  'review': 'Explains complex cellular processes clearly. Challenging exams but fair grader.',\n",
       "  'subject': 'Biology',\n",
       "  'stars': 4}]"
      ]
     },
     "execution_count": 25,
     "metadata": {},
     "output_type": "execute_result"
    }
   ],
   "source": [
    "import json\n",
    "data = json.load(open(\"reviews.json\"))\n",
    "data['reviews']\n"
   ]
  },
  {
   "cell_type": "code",
   "execution_count": 26,
   "metadata": {},
   "outputs": [],
   "source": [
    "api_key = os.getenv('OPENAI_API_KEY')\n",
    "processed_data = []\n",
    "client = OpenAI(api_key=api_key)\n",
    "\n",
    "for review in data['reviews']:\n",
    "    response = client.embeddings.create(\n",
    "        input=review['review'], \n",
    "        model=\"text-embedding-3-small\",\n",
    "\n",
    "    )\n",
    "    embedding = response.data[0].embedding\n",
    "    processed_data.append({\"values\": embedding, \n",
    "                           \"id\": review['professor'], \n",
    "                           \"metadata\": {\n",
    "                               \"review\": review[\"review\"], \n",
    "                               \"subject\": review['subject'],\n",
    "                               \"stars\" : review[\"stars\"]}})\n"
   ]
  },
  {
   "cell_type": "code",
   "execution_count": 27,
   "metadata": {},
   "outputs": [
    {
     "data": {
      "text/plain": [
       "{'upserted_count': 39}"
      ]
     },
     "execution_count": 27,
     "metadata": {},
     "output_type": "execute_result"
    }
   ],
   "source": [
    "index = pc.Index(\"rag\")\n",
    "index.upsert(\n",
    "    vectors=processed_data,\n",
    "    namespace=\"ns1\"\n",
    ")\n"
   ]
  },
  {
   "cell_type": "code",
   "execution_count": 28,
   "metadata": {},
   "outputs": [
    {
     "data": {
      "text/plain": [
       "{'dimension': 1536,\n",
       " 'index_fullness': 0.0,\n",
       " 'namespaces': {'ns1': {'vector_count': 39}},\n",
       " 'total_vector_count': 39}"
      ]
     },
     "execution_count": 28,
     "metadata": {},
     "output_type": "execute_result"
    }
   ],
   "source": [
    "#Index stats\n",
    "index.describe_index_stats()"
   ]
  }
 ],
 "metadata": {
  "kernelspec": {
   "display_name": "rag",
   "language": "python",
   "name": "python3"
  },
  "language_info": {
   "codemirror_mode": {
    "name": "ipython",
    "version": 3
   },
   "file_extension": ".py",
   "mimetype": "text/x-python",
   "name": "python",
   "nbconvert_exporter": "python",
   "pygments_lexer": "ipython3",
   "version": "3.12.4"
  }
 },
 "nbformat": 4,
 "nbformat_minor": 2
}
